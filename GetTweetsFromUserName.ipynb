{
 "cells": [
  {
   "cell_type": "markdown",
   "metadata": {},
   "source": [
    "# Data Gathering From Social Media     \n",
    "\n",
    "This notebook will contain the process of gathering data from Twitter for a given account. "
   ]
  },
  {
   "cell_type": "code",
   "execution_count": 8,
   "metadata": {},
   "outputs": [],
   "source": [
    "#!pip install inflect\n",
    "#!pip install scispacy"
   ]
  },
  {
   "cell_type": "code",
   "execution_count": 4,
   "metadata": {},
   "outputs": [],
   "source": [
    "\"\"\"\n",
    "Useful Libraries\n",
    "\"\"\"\n",
    "import sys\n",
    "import numpy as np\n",
    "import joblib\n",
    "import tqdm\n",
    "import tweepy\n",
    "import pandas as pd\n",
    "import nltk\n",
    "from tweepy import OAuthHandler\n",
    "from textblob import TextBlob\n",
    "from tweepy import Cursor\n",
    "from dateutil import parser\n",
    "\n",
    "import inflect\n",
    "import string, unicodedata\n",
    "from datetime import datetime\n",
    "import re\n",
    "\n",
    "import spacy\n",
    "from scipy.spatial.distance import jensenshannon\n",
    "\n",
    "from sklearn.feature_extraction.text import CountVectorizer, TfidfVectorizer\n",
    "from sklearn.decomposition import LatentDirichletAllocation"
   ]
  },
  {
   "cell_type": "code",
   "execution_count": null,
   "metadata": {},
   "outputs": [],
   "source": [
    "\"\"\"\n",
    "Twitter Authentification Credentials. \n",
    "You must replace the following variables with their corresponding values \n",
    "from your twitter account.\n",
    "\"\"\"\n",
    "cons_key = 'xxxxxxxxxxxxxxxxxxxxxxxx'\n",
    "cons_secret = 'xxxxxxxxxxxxxxxxxxxxxxxx'\n",
    "acc_token = 'xxxxxxxxxxxxxxxxxxxxxxxx'\n",
    "acc_secret = 'xxxxxxxxxxxxxxxxxxxxxxxx'"
   ]
  },
  {
   "cell_type": "code",
   "execution_count": 12,
   "metadata": {},
   "outputs": [],
   "source": [
    "\"\"\"\n",
    "Useful functions \n",
    "\"\"\"\n",
    "\n",
    "def get_twitter_auth():\n",
    "    try:\n",
    "        consumer_key = cons_key\n",
    "        consumer_secret = cons_secret\n",
    "        access_token = acc_token\n",
    "        access_secret = acc_secret\n",
    "        \n",
    "    except KeyError:\n",
    "        sys.stderr.write(\"Twitter Environment Variable not Set\\n\")\n",
    "        sys.exit(1)\n",
    "        \n",
    "    auth = tweepy.OAuthHandler(consumer_key, consumer_secret)\n",
    "    auth.set_access_token(access_token, access_secret)\n",
    "    \n",
    "    return auth\n",
    "\n",
    "\n",
    "def get_twitter_client():\n",
    "    auth = get_twitter_auth()\n",
    "    client = tweepy.API(auth, wait_on_rate_limit=True)\n",
    "    return client\n",
    "\n",
    "\n",
    "\"\"\"\n",
    "This function gets tweets from a username.\n",
    "The total number of tweet the API can retrive is limited to 3200.\n",
    "The count is made so that count_tweet x page_limit = 3200\n",
    "\"\"\"\n",
    "def get_tweets_from_user(twitter_user_name, page_limit=16, count_tweet=200):\n",
    "    client = get_twitter_client()\n",
    "    \n",
    "    tweets = []\n",
    "    \n",
    "    for page in Cursor(client.user_timeline, \n",
    "                        screen_name=twitter_user_name, \n",
    "                        count=count_tweet).pages(page_limit):\n",
    "        for tweet in page:\n",
    "            parsed_tweet = {}\n",
    "            parsed_tweet['date'] = tweet.created_at\n",
    "            parsed_tweet['author'] = tweet.user.name\n",
    "            parsed_tweet['twitter_name'] = tweet.user.screen_name\n",
    "            parsed_tweet['text'] = tweet.text\n",
    "            parsed_tweet['number_of_likes'] = tweet.favorite_count\n",
    "            parsed_tweet['number_of_retweets'] = tweet.retweet_count\n",
    "                \n",
    "            tweets.append(parsed_tweet)\n",
    "        \n",
    "    return tweets\n",
    "\n",
    "\n",
    "\"\"\"\n",
    "This function formats a tweet date into a day/month/year format\n",
    "example: \n",
    "    - original date: \"2020-08-26 15:00:02\"\n",
    "    - formated date: '26/08/2020'\n",
    "\"\"\"\n",
    "def format_tweet_date(date):\n",
    "    return parser.parse(date).strftime(\"%d/%m/%Y\")"
   ]
  },
  {
   "cell_type": "code",
   "execution_count": null,
   "metadata": {},
   "outputs": [],
   "source": []
  },
  {
   "cell_type": "code",
   "execution_count": null,
   "metadata": {},
   "outputs": [],
   "source": []
  },
  {
   "cell_type": "code",
   "execution_count": 13,
   "metadata": {},
   "outputs": [],
   "source": [
    "\"\"\"\n",
    "Useful functions for date formatting\n",
    "\"\"\"\n",
    "def get_day(date):\n",
    "    dt = datetime.strptime(date, '%Y-%m-%d %H:%M:%S')\n",
    "    return dt.day\n",
    "\n",
    "def get_month(date):\n",
    "    dt = datetime.strptime(date, '%Y-%m-%d %H:%M:%S')\n",
    "    return dt.month\n",
    "\n",
    "def get_year(date):\n",
    "    dt = datetime.strptime(date, '%Y-%m-%d %H:%M:%S')\n",
    "    return dt.year"
   ]
  },
  {
   "cell_type": "code",
   "execution_count": null,
   "metadata": {},
   "outputs": [],
   "source": []
  },
  {
   "cell_type": "code",
   "execution_count": 14,
   "metadata": {},
   "outputs": [],
   "source": [
    "#get_tweets_from_user_print(\"vboykis\", 2)"
   ]
  },
  {
   "cell_type": "code",
   "execution_count": 15,
   "metadata": {},
   "outputs": [],
   "source": [
    "\"\"\"\n",
    "Function used to create a dataframe from the tweets\n",
    "\"\"\"\n",
    "def create_df_from_tweets(twitter_user_name, page_limit=16, count_tweet=200):\n",
    "    \n",
    "    list_tweets = get_tweets_from_user(twitter_user_name, page_limit, count_tweet)\n",
    "    df = pd.DataFrame(list_tweets)\n",
    "    \n",
    "    # Remove duplicates:\n",
    "    df = df.drop_duplicates( \"text\" , keep='first')\n",
    "    \n",
    "    # format the date\n",
    "    #df[\"date\"] = df[\"date\"].apply(lambda date : format_tweet_date(str(date)))\n",
    "    df[\"year\"] = df[\"date\"].apply(lambda date : get_year(str(date)))\n",
    "    df[\"month\"] = df[\"date\"].apply(lambda date : get_month(str(date)))\n",
    "    df[\"day\"] = df[\"date\"].apply(lambda date : get_day(str(date)))\n",
    "    \n",
    "    return df"
   ]
  },
  {
   "cell_type": "code",
   "execution_count": 16,
   "metadata": {},
   "outputs": [],
   "source": [
    "\"\"\"\n",
    "Here we want to retrieve all the tweets from Facebook AI twitter account\n",
    "\"\"\"\n",
    "df = create_df_from_tweets(\"facebookai\")"
   ]
  },
  {
   "cell_type": "code",
   "execution_count": null,
   "metadata": {},
   "outputs": [],
   "source": []
  },
  {
   "cell_type": "code",
   "execution_count": 17,
   "metadata": {},
   "outputs": [
    {
     "data": {
      "text/plain": [
       "498"
      ]
     },
     "execution_count": 17,
     "metadata": {},
     "output_type": "execute_result"
    }
   ],
   "source": [
    "len(df)"
   ]
  },
  {
   "cell_type": "code",
   "execution_count": 18,
   "metadata": {},
   "outputs": [
    {
     "data": {
      "text/html": [
       "<div>\n",
       "<style scoped>\n",
       "    .dataframe tbody tr th:only-of-type {\n",
       "        vertical-align: middle;\n",
       "    }\n",
       "\n",
       "    .dataframe tbody tr th {\n",
       "        vertical-align: top;\n",
       "    }\n",
       "\n",
       "    .dataframe thead th {\n",
       "        text-align: right;\n",
       "    }\n",
       "</style>\n",
       "<table border=\"1\" class=\"dataframe\">\n",
       "  <thead>\n",
       "    <tr style=\"text-align: right;\">\n",
       "      <th></th>\n",
       "      <th>date</th>\n",
       "      <th>author</th>\n",
       "      <th>twitter_name</th>\n",
       "      <th>text</th>\n",
       "      <th>number_of_likes</th>\n",
       "      <th>number_of_retweets</th>\n",
       "      <th>year</th>\n",
       "      <th>month</th>\n",
       "      <th>day</th>\n",
       "    </tr>\n",
       "  </thead>\n",
       "  <tbody>\n",
       "    <tr>\n",
       "      <th>0</th>\n",
       "      <td>2020-09-03 21:54:44</td>\n",
       "      <td>Facebook AI</td>\n",
       "      <td>facebookai</td>\n",
       "      <td>RT @fb_engineering: Congratulations to the @Hy...</td>\n",
       "      <td>0</td>\n",
       "      <td>6</td>\n",
       "      <td>2020</td>\n",
       "      <td>9</td>\n",
       "      <td>3</td>\n",
       "    </tr>\n",
       "    <tr>\n",
       "      <th>1</th>\n",
       "      <td>2020-08-31 18:28:25</td>\n",
       "      <td>Facebook AI</td>\n",
       "      <td>facebookai</td>\n",
       "      <td>We’re releasing fairmotion, a library to help ...</td>\n",
       "      <td>636</td>\n",
       "      <td>185</td>\n",
       "      <td>2020</td>\n",
       "      <td>8</td>\n",
       "      <td>31</td>\n",
       "    </tr>\n",
       "    <tr>\n",
       "      <th>2</th>\n",
       "      <td>2020-08-31 17:13:07</td>\n",
       "      <td>Facebook AI</td>\n",
       "      <td>facebookai</td>\n",
       "      <td>RT @schrep: Today we launched Opacus, a high-s...</td>\n",
       "      <td>0</td>\n",
       "      <td>112</td>\n",
       "      <td>2020</td>\n",
       "      <td>8</td>\n",
       "      <td>31</td>\n",
       "    </tr>\n",
       "    <tr>\n",
       "      <th>3</th>\n",
       "      <td>2020-08-31 16:31:41</td>\n",
       "      <td>Facebook AI</td>\n",
       "      <td>facebookai</td>\n",
       "      <td>Introducing Opacus, a new high-speed library f...</td>\n",
       "      <td>182</td>\n",
       "      <td>60</td>\n",
       "      <td>2020</td>\n",
       "      <td>8</td>\n",
       "      <td>31</td>\n",
       "    </tr>\n",
       "    <tr>\n",
       "      <th>4</th>\n",
       "      <td>2020-08-27 03:47:07</td>\n",
       "      <td>Facebook AI</td>\n",
       "      <td>facebookai</td>\n",
       "      <td>We've achieved SoTA results in navigation &amp;amp...</td>\n",
       "      <td>229</td>\n",
       "      <td>66</td>\n",
       "      <td>2020</td>\n",
       "      <td>8</td>\n",
       "      <td>27</td>\n",
       "    </tr>\n",
       "  </tbody>\n",
       "</table>\n",
       "</div>"
      ],
      "text/plain": [
       "                 date       author twitter_name  \\\n",
       "0 2020-09-03 21:54:44  Facebook AI   facebookai   \n",
       "1 2020-08-31 18:28:25  Facebook AI   facebookai   \n",
       "2 2020-08-31 17:13:07  Facebook AI   facebookai   \n",
       "3 2020-08-31 16:31:41  Facebook AI   facebookai   \n",
       "4 2020-08-27 03:47:07  Facebook AI   facebookai   \n",
       "\n",
       "                                                text  number_of_likes  \\\n",
       "0  RT @fb_engineering: Congratulations to the @Hy...                0   \n",
       "1  We’re releasing fairmotion, a library to help ...              636   \n",
       "2  RT @schrep: Today we launched Opacus, a high-s...                0   \n",
       "3  Introducing Opacus, a new high-speed library f...              182   \n",
       "4  We've achieved SoTA results in navigation &amp...              229   \n",
       "\n",
       "   number_of_retweets  year  month  day  \n",
       "0                   6  2020      9    3  \n",
       "1                 185  2020      8   31  \n",
       "2                 112  2020      8   31  \n",
       "3                  60  2020      8   31  \n",
       "4                  66  2020      8   27  "
      ]
     },
     "execution_count": 18,
     "metadata": {},
     "output_type": "execute_result"
    }
   ],
   "source": [
    "df.head(5)"
   ]
  },
  {
   "cell_type": "code",
   "execution_count": null,
   "metadata": {},
   "outputs": [],
   "source": []
  }
 ],
 "metadata": {
  "kernelspec": {
   "display_name": "Python 3",
   "language": "python",
   "name": "python3"
  },
  "language_info": {
   "codemirror_mode": {
    "name": "ipython",
    "version": 3
   },
   "file_extension": ".py",
   "mimetype": "text/x-python",
   "name": "python",
   "nbconvert_exporter": "python",
   "pygments_lexer": "ipython3",
   "version": "3.6.8"
  }
 },
 "nbformat": 4,
 "nbformat_minor": 4
}
